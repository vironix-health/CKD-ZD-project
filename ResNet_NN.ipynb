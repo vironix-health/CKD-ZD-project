{
 "cells": [
  {
   "cell_type": "markdown",
   "id": "26d4354a-d7de-418a-a621-7cfa0f0d2ff2",
   "metadata": {},
   "source": [
    "# Import Necessary Headers"
   ]
  },
  {
   "cell_type": "code",
   "execution_count": 1,
   "id": "b89c2677-3fc8-420e-9b34-b175a1bbd0d2",
   "metadata": {},
   "outputs": [],
   "source": [
    "import pandas as pd\n",
    "import numpy as np\n",
    "import shap\n",
    "import torch\n",
    "import torch.nn as nn\n",
    "import torch.optim as optim\n",
    "from torch.utils.data import DataLoader, TensorDataset\n",
    "from sklearn.metrics import mean_squared_error, mean_absolute_error\n",
    "from sklearn.model_selection import train_test_split\n",
    "from sklearn.preprocessing import StandardScaler\n",
    "from tqdm import tqdm"
   ]
  },
  {
   "cell_type": "markdown",
   "id": "7d15165f-65ac-452d-be2e-916879553447",
   "metadata": {},
   "source": [
    "# Load Updated CSV into Pandas Dataframe¶"
   ]
  },
  {
   "cell_type": "code",
   "execution_count": 2,
   "id": "481bd52e-3204-49ee-835a-da1264f661b0",
   "metadata": {},
   "outputs": [],
   "source": [
    "# Hong et al. Dataset\n",
    "df = pd.read_csv(\"hong_et_al/df_updt.csv\")"
   ]
  },
  {
   "cell_type": "code",
   "execution_count": 3,
   "id": "b0bdb3b0-777a-48aa-8ea4-cc2fa54ca550",
   "metadata": {},
   "outputs": [],
   "source": [
    "# Drop unnecessary columns\n",
    "df = df.drop(columns=df.filter(like='chrkidneydisease').columns)\n",
    "df = df.drop(columns=df.filter(like='chrkidneydisease').columns)\n",
    "df = df.drop(columns=df.filter(like='(pcp)screen').columns)\n",
    "df = df.drop(columns=df.filter(regex='^cc_').columns)\n",
    "df = df.dropna(subset=['egfr_CKD_EPI'])\n",
    "\n",
    "# Impute median data for any remaining NaN values in numeric columns\n",
    "numeric_cols = df.select_dtypes(include=['int64', 'float64']).columns\n",
    "df[numeric_cols] = df[numeric_cols].fillna(df[numeric_cols].median())\n",
    "\n",
    "# Impute mode data for any remaining NaN values in categorical columns\n",
    "categorical_cols = ['dep_name', 'gender', 'ethnicity', 'race', 'lang', 'religion',\n",
    "                    'maritalstatus', 'employstatus', 'insurance_status', 'disposition', 'arrivalmode',\n",
    "                    'arrivalmonth', 'arrivalday', 'arrivalhour_bin', 'previousdispo']\n",
    "\n",
    "# One-hot encode categorical features\n",
    "df = pd.get_dummies(df, columns=categorical_cols)\n",
    "\n",
    "# Ensure no infinite values\n",
    "df.replace([np.inf, -np.inf], np.nan, inplace=True)\n",
    "df.fillna(df.median(), inplace=True)"
   ]
  },
  {
   "cell_type": "code",
   "execution_count": 4,
   "id": "f6dfb95b-a754-4095-8e62-8c31da4ca10e",
   "metadata": {},
   "outputs": [
    {
     "name": "stdout",
     "output_type": "stream",
     "text": [
      "<class 'pandas.core.frame.DataFrame'>\n",
      "Index: 212834 entries, 6 to 560485\n",
      "Columns: 853 entries, esi to previousdispo_Transfer to Another Facility\n",
      "dtypes: bool(100), float64(386), int64(367)\n",
      "memory usage: 1.2 GB\n"
     ]
    }
   ],
   "source": [
    "df.info()"
   ]
  },
  {
   "cell_type": "markdown",
   "id": "9d77cb1e-ae24-443c-b7c9-d26fde1058a3",
   "metadata": {},
   "source": [
    "# Define Train and Test Data Splits"
   ]
  },
  {
   "cell_type": "code",
   "execution_count": 5,
   "id": "e379a880-b2a8-4422-bb33-20fcca446178",
   "metadata": {},
   "outputs": [],
   "source": [
    "# Exclude target variable from features frame\n",
    "X = df.drop(columns=df.filter(like='egfr').columns)\n",
    "y = df['egfr_CKD_EPI']\n",
    "\n",
    "# Split the dataset\n",
    "X_train, X_test, y_train, y_test = train_test_split(X, y, test_size=0.2, random_state=42)\n",
    "\n",
    "# Normalize the numeric features\n",
    "scaler = StandardScaler()\n",
    "X_train = scaler.fit_transform(X_train)\n",
    "X_test = scaler.transform(X_test)\n",
    "\n",
    "# Convert data to PyTorch tensors\n",
    "X_train_tensor = torch.tensor(X_train, dtype=torch.float32)\n",
    "X_test_tensor = torch.tensor(X_test, dtype=torch.float32)\n",
    "y_train_tensor = torch.tensor(y_train.values, dtype=torch.float32).view(-1, 1)\n",
    "y_test_tensor = torch.tensor(y_test.values, dtype=torch.float32).view(-1, 1)\n",
    "\n",
    "# Ensure no NaN values in tensors\n",
    "assert not X_train_tensor.isnan().any(), \"NaN values found in X_train_tensor\"\n",
    "assert not y_train_tensor.isnan().any(), \"NaN values found in y_train_tensor\"\n",
    "\n",
    "# Create DataLoader for batch processing\n",
    "train_dataset = TensorDataset(X_train_tensor, y_train_tensor)\n",
    "test_dataset = TensorDataset(X_test_tensor, y_test_tensor)\n",
    "\n",
    "train_loader = DataLoader(train_dataset, batch_size=64, shuffle=True)\n",
    "test_loader = DataLoader(test_dataset, batch_size=64, shuffle=False)"
   ]
  },
  {
   "cell_type": "markdown",
   "id": "f8147589-59bd-462d-9579-4bd736ad5aa5",
   "metadata": {},
   "source": [
    "# Define ResNet NN"
   ]
  },
  {
   "cell_type": "code",
   "execution_count": 6,
   "id": "dff52232-1202-423b-8f9f-fc1e6e7df29a",
   "metadata": {},
   "outputs": [
    {
     "data": {
      "text/plain": [
       "ResNetForTabular(\n",
       "  (initial_fc): Linear(in_features=840, out_features=64, bias=True)\n",
       "  (res_blocks): Sequential(\n",
       "    (0): ResNetBlock(\n",
       "      (fc1): Linear(in_features=64, out_features=64, bias=True)\n",
       "      (relu): ReLU()\n",
       "      (fc2): Linear(in_features=64, out_features=64, bias=True)\n",
       "    )\n",
       "    (1): ResNetBlock(\n",
       "      (fc1): Linear(in_features=64, out_features=64, bias=True)\n",
       "      (relu): ReLU()\n",
       "      (fc2): Linear(in_features=64, out_features=64, bias=True)\n",
       "    )\n",
       "    (2): ResNetBlock(\n",
       "      (fc1): Linear(in_features=64, out_features=64, bias=True)\n",
       "      (relu): ReLU()\n",
       "      (fc2): Linear(in_features=64, out_features=64, bias=True)\n",
       "    )\n",
       "  )\n",
       "  (final_fc): Linear(in_features=64, out_features=1, bias=True)\n",
       "  (relu): ReLU()\n",
       ")"
      ]
     },
     "execution_count": 6,
     "metadata": {},
     "output_type": "execute_result"
    }
   ],
   "source": [
    "# Define single residual block for tabular data\n",
    "class ResNetBlock(nn.Module):\n",
    "    def __init__(self, input_dim, hidden_dim):\n",
    "        super(ResNetBlock, self).__init__()\n",
    "        self.fc1 = nn.Linear(input_dim, hidden_dim)\n",
    "        self.relu = nn.ReLU()\n",
    "        self.fc2 = nn.Linear(hidden_dim, input_dim)\n",
    "    \n",
    "    def forward(self, x):\n",
    "        residual = x # Save the input for the residual connection\n",
    "        out = self.fc1(x)\n",
    "        out = self.relu(out)\n",
    "        out = self.fc2(out)\n",
    "        out = out + residual # Add the residual (input) to the output\n",
    "        out = self.relu(out)\n",
    "        return out\n",
    "\n",
    "# Define ResNet model for tabular data\n",
    "class ResNetForTabular(nn.Module):\n",
    "    def __init__(self, input_dim, num_blocks, hidden_dim):\n",
    "        super(ResNetForTabular, self).__init__()\n",
    "        self.initial_fc = nn.Linear(input_dim, hidden_dim) # Initial fully connected layer\n",
    "        self.res_blocks = nn.Sequential(\n",
    "            *[ResNetBlock(hidden_dim, hidden_dim) for _ in range(num_blocks)] # Stack multiple residual blocks\n",
    "        )\n",
    "        self.final_fc = nn.Linear(hidden_dim, 1)\n",
    "        self.relu = nn.ReLU()\n",
    "    \n",
    "    def forward(self, x):\n",
    "        out = self.initial_fc(x)\n",
    "        out = self.relu(out)\n",
    "        out = self.res_blocks(out)\n",
    "        out = self.final_fc(out)\n",
    "        return out\n",
    "\n",
    "# Hyperparameters\n",
    "input_dim = X_train.shape[1]\n",
    "num_blocks = 3\n",
    "hidden_dim = 64\n",
    "\n",
    "\n",
    "# Initialize the model\n",
    "model = ResNetForTabular(input_dim, num_blocks, hidden_dim)\n",
    "\n",
    "# Load model to device\n",
    "device = torch.device('cuda' if torch.cuda.is_available() else 'cpu')\n",
    "model.to(device)"
   ]
  },
  {
   "cell_type": "markdown",
   "id": "205b7030-672a-4cf8-9358-06f09760de70",
   "metadata": {},
   "source": [
    "# Training Loop"
   ]
  },
  {
   "cell_type": "code",
   "execution_count": 7,
   "id": "98061463-b221-456e-9848-708d88a38b26",
   "metadata": {},
   "outputs": [
    {
     "name": "stdout",
     "output_type": "stream",
     "text": [
      "Epoch 1/15, Training Loss: 345.94474798429735, Validation Loss: 77.56979125541251\n",
      "Epoch 2/15, Training Loss: 63.412447955544756, Validation Loss: 37.70549375087291\n",
      "Epoch 3/15, Training Loss: 35.26972695429134, Validation Loss: 29.99616678054626\n",
      "Epoch 4/15, Training Loss: 27.418374719587497, Validation Loss: 21.659078857920193\n",
      "Epoch 5/15, Training Loss: 23.530242910424555, Validation Loss: 20.505838261710274\n",
      "Epoch 6/15, Training Loss: 15.473468647734288, Validation Loss: 22.28317565030164\n",
      "Epoch 7/15, Training Loss: 12.547863411034287, Validation Loss: 12.517916227604175\n",
      "Epoch 8/15, Training Loss: 9.67694901470312, Validation Loss: 11.340962945877969\n",
      "Epoch 9/15, Training Loss: 8.255225988135038, Validation Loss: 13.473149044019681\n",
      "Epoch 10/15, Training Loss: 7.049916871191639, Validation Loss: 9.717038580963203\n",
      "Epoch 11/15, Training Loss: 5.8056324273291855, Validation Loss: 6.401598432400563\n",
      "Epoch 12/15, Training Loss: 5.434525909212378, Validation Loss: 5.814947381033912\n",
      "Epoch 13/15, Training Loss: 4.648961116299061, Validation Loss: 5.782993769860482\n",
      "Epoch 14/15, Training Loss: 4.40400110264104, Validation Loss: 4.971625024670953\n",
      "Epoch 15/15, Training Loss: 3.8306934160650425, Validation Loss: 7.376351624548256\n"
     ]
    }
   ],
   "source": [
    "# Define loss function and optimizer\n",
    "criterion = nn.MSELoss()\n",
    "optimizer = optim.Adam(model.parameters(), lr=0.001)\n",
    "\n",
    "# Training loop\n",
    "epochs = 15\n",
    "for epoch in range(epochs):\n",
    "    model.train()\n",
    "    running_loss = 0.0\n",
    "    for inputs, targets in train_loader:\n",
    "        inputs, targets = inputs.to(device), targets.to(device)\n",
    "\n",
    "        optimizer.zero_grad()\n",
    "        outputs = model(inputs)\n",
    "        loss = criterion(outputs, targets)\n",
    "        loss.backward()\n",
    "        optimizer.step()\n",
    "\n",
    "        running_loss += loss.item()\n",
    "\n",
    "    # Validation loss\n",
    "    model.eval()\n",
    "    val_loss = 0.0\n",
    "    with torch.no_grad():\n",
    "        for inputs, labels in test_loader:\n",
    "            inputs, labels = inputs.to(device), labels.to(device)\n",
    "            outputs = model(inputs)\n",
    "            loss = criterion(outputs, labels)\n",
    "            val_loss += loss.item()\n",
    "\n",
    "    print(f\"Epoch {epoch+1}/{epochs}, Training Loss: {running_loss/len(train_loader)}, Validation Loss: {val_loss/len(test_loader)}\")\n",
    "\n",
    "# Save the trained model\n",
    "torch.save(model.state_dict(), 'model.pth')"
   ]
  },
  {
   "cell_type": "markdown",
   "id": "46f11570-9ba1-4893-a674-8abfae656712",
   "metadata": {},
   "source": [
    "# Evaluate Accuracy on Test Set"
   ]
  },
  {
   "cell_type": "code",
   "execution_count": 8,
   "id": "39dd4bab-02ac-4280-9274-ff004023562f",
   "metadata": {},
   "outputs": [
    {
     "name": "stdout",
     "output_type": "stream",
     "text": [
      "Mean Squared Error: 7.381031513214111\n",
      "Mean Absolute Error: 1.3308500051498413\n"
     ]
    }
   ],
   "source": [
    "# Switch the model to evaluation mode\n",
    "model.eval()\n",
    "\n",
    "# Initialize lists to store predictions and true values\n",
    "all_predictions = []\n",
    "all_labels = []\n",
    "\n",
    "# Predict and evaluate\n",
    "with torch.no_grad():\n",
    "    for inputs, labels in test_loader:\n",
    "        inputs, labels = inputs.to(device), labels.to(device)\n",
    "        outputs = model(inputs)\n",
    "        all_predictions.append(outputs.cpu().numpy())\n",
    "        all_labels.append(labels.cpu().numpy())\n",
    "\n",
    "# Concatenate all batches into a single array\n",
    "all_predictions = np.concatenate(all_predictions)\n",
    "all_labels = np.concatenate(all_labels)\n",
    "\n",
    "# Calculate metrics\n",
    "mse = mean_squared_error(all_labels, all_predictions)\n",
    "mae = mean_absolute_error(all_labels, all_predictions)\n",
    "\n",
    "print(f\"Mean Squared Error: {mse}\")\n",
    "print(f\"Mean Absolute Error: {mae}\")"
   ]
  },
  {
   "cell_type": "markdown",
   "id": "cd9abd73-230d-406c-b975-80d3254dc1d0",
   "metadata": {},
   "source": [
    "# SHAP Explainer"
   ]
  },
  {
   "cell_type": "code",
   "execution_count": 16,
   "id": "c90ca05a-90a4-45da-85d0-d9d072f068c7",
   "metadata": {},
   "outputs": [
    {
     "name": "stderr",
     "output_type": "stream",
     "text": [
      "100%|██████████████████████████████████████████████████████████████████████████████████| 165/165 [12:04<00:00,  4.39s/it]\n"
     ]
    }
   ],
   "source": [
    "# Select a subset of the training data to use as the background dataset for SHAP\n",
    "background = X_train_tensor[:100].to(device)\n",
    "\n",
    "# Initialize the SHAP DeepExplainer with the model and background dataset\n",
    "explainer = shap.DeepExplainer(model, background)\n",
    "\n",
    "# Define the list to store SHAP values\n",
    "shap_list = []\n",
    "\n",
    "# Set the batch size for SHAP computation\n",
    "batch_size = 256\n",
    "\n",
    "# Convert the tensor to numpy for slicing\n",
    "X_test_np = X_test_tensor.cpu().numpy()\n",
    "\n",
    "# Create indices for batching\n",
    "idxs = list(map(int, np.linspace(0, X_test_np.shape[0] - 1, int(X_test_np.shape[0] / batch_size))))\n",
    "\n",
    "# Use tqdm to display a progress bar for SHAP value computation\n",
    "for i1, i2 in tqdm(zip(idxs[:-1], idxs[1:]), total=len(idxs) - 1):\n",
    "    # Compute SHAP values for the current batch\n",
    "    shaps = explainer.shap_values(torch.from_numpy(X_test_np[i1:i2, :]).to(device), check_additivity=False)\n",
    "    \n",
    "    # If the model has a single output, shaps will be a single array\n",
    "    if isinstance(shaps, list):\n",
    "        shap_list.append(shaps[0])\n",
    "    else:\n",
    "        shap_list.append(shaps)\n",
    "\n",
    "# Concatenate the list of SHAP values into a single array\n",
    "shap_values = np.concatenate(shap_list, axis=0)\n",
    "\n",
    "# Ensure shap_values is in the correct shape (n_samples, n_features)\n",
    "if len(shap_values.shape) == 3:\n",
    "    shap_values = shap_values[:, 0, :]\n",
    "\n",
    "# Convert SHAP values to numpy arrays and move the test data back to the CPU for plotting\n",
    "X_test_np = X_test_tensor.cpu().numpy()"
   ]
  },
  {
   "cell_type": "code",
   "execution_count": 17,
   "id": "c077e3d7-8830-4013-abf1-e8398e8ad9e5",
   "metadata": {},
   "outputs": [
    {
     "ename": "AssertionError",
     "evalue": "The shape of the shap_values matrix does not match the shape of the provided data matrix.",
     "output_type": "error",
     "traceback": [
      "\u001b[1;31m---------------------------------------------------------------------------\u001b[0m",
      "\u001b[1;31mAssertionError\u001b[0m                            Traceback (most recent call last)",
      "Cell \u001b[1;32mIn[17], line 2\u001b[0m\n\u001b[0;32m      1\u001b[0m \u001b[38;5;66;03m# Summary plot of SHAP values\u001b[39;00m\n\u001b[1;32m----> 2\u001b[0m \u001b[43mshap\u001b[49m\u001b[38;5;241;43m.\u001b[39;49m\u001b[43msummary_plot\u001b[49m\u001b[43m(\u001b[49m\u001b[43mshap_values\u001b[49m\u001b[43m,\u001b[49m\u001b[43m \u001b[49m\u001b[43mX_test_np\u001b[49m\u001b[43m,\u001b[49m\u001b[43m \u001b[49m\u001b[43mfeature_names\u001b[49m\u001b[38;5;241;43m=\u001b[39;49m\u001b[43mX\u001b[49m\u001b[38;5;241;43m.\u001b[39;49m\u001b[43mcolumns\u001b[49m\u001b[38;5;241;43m.\u001b[39;49m\u001b[43mtolist\u001b[49m\u001b[43m(\u001b[49m\u001b[43m)\u001b[49m\u001b[43m)\u001b[49m\n",
      "File \u001b[1;32m~\\AppData\\Local\\Packages\\PythonSoftwareFoundation.Python.3.11_qbz5n2kfra8p0\\LocalCache\\local-packages\\Python311\\site-packages\\shap\\plots\\_beeswarm.py:555\u001b[0m, in \u001b[0;36msummary_legacy\u001b[1;34m(shap_values, features, feature_names, max_display, plot_type, color, axis_color, title, alpha, show, sort, color_bar, plot_size, layered_violin_max_num_bins, class_names, class_inds, color_bar_label, cmap, show_values_in_legend, auto_size_plot, use_log_scale)\u001b[0m\n\u001b[0;32m    552\u001b[0m         \u001b[38;5;28;01massert\u001b[39;00m \u001b[38;5;28;01mFalse\u001b[39;00m, shape_msg \u001b[38;5;241m+\u001b[39m \u001b[38;5;124m\"\u001b[39m\u001b[38;5;124m Perhaps the extra column in the shap_values matrix is the \u001b[39m\u001b[38;5;124m\"\u001b[39m \\\n\u001b[0;32m    553\u001b[0m                       \u001b[38;5;124m\"\u001b[39m\u001b[38;5;124mconstant offset? Of so just pass shap_values[:,:-1].\u001b[39m\u001b[38;5;124m\"\u001b[39m\n\u001b[0;32m    554\u001b[0m     \u001b[38;5;28;01melse\u001b[39;00m:\n\u001b[1;32m--> 555\u001b[0m         \u001b[38;5;28;01massert\u001b[39;00m num_features \u001b[38;5;241m==\u001b[39m features\u001b[38;5;241m.\u001b[39mshape[\u001b[38;5;241m1\u001b[39m], shape_msg\n\u001b[0;32m    557\u001b[0m \u001b[38;5;28;01mif\u001b[39;00m feature_names \u001b[38;5;129;01mis\u001b[39;00m \u001b[38;5;28;01mNone\u001b[39;00m:\n\u001b[0;32m    558\u001b[0m     feature_names \u001b[38;5;241m=\u001b[39m np\u001b[38;5;241m.\u001b[39marray([labels[\u001b[38;5;124m'\u001b[39m\u001b[38;5;124mFEATURE\u001b[39m\u001b[38;5;124m'\u001b[39m] \u001b[38;5;241m%\u001b[39m \u001b[38;5;28mstr\u001b[39m(i) \u001b[38;5;28;01mfor\u001b[39;00m i \u001b[38;5;129;01min\u001b[39;00m \u001b[38;5;28mrange\u001b[39m(num_features)])\n",
      "\u001b[1;31mAssertionError\u001b[0m: The shape of the shap_values matrix does not match the shape of the provided data matrix."
     ]
    }
   ],
   "source": [
    "# Summary plot of SHAP values\n",
    "shap.summary_plot(shap_values, X_test_np, feature_names=X.columns.tolist())"
   ]
  },
  {
   "cell_type": "code",
   "execution_count": null,
   "id": "38dfd38a-8b7b-4448-acb6-59e9f6138ff1",
   "metadata": {},
   "outputs": [],
   "source": []
  }
 ],
 "metadata": {
  "kernelspec": {
   "display_name": "Python 3 (ipykernel)",
   "language": "python",
   "name": "python3"
  },
  "language_info": {
   "codemirror_mode": {
    "name": "ipython",
    "version": 3
   },
   "file_extension": ".py",
   "mimetype": "text/x-python",
   "name": "python",
   "nbconvert_exporter": "python",
   "pygments_lexer": "ipython3",
   "version": "3.11.9"
  }
 },
 "nbformat": 4,
 "nbformat_minor": 5
}
