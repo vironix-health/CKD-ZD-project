{
 "cells": [
  {
   "cell_type": "markdown",
   "id": "26d4354a-d7de-418a-a621-7cfa0f0d2ff2",
   "metadata": {},
   "source": [
    "# Import Necessary Headers"
   ]
  },
  {
   "cell_type": "code",
   "execution_count": 1,
   "id": "b89c2677-3fc8-420e-9b34-b175a1bbd0d2",
   "metadata": {},
   "outputs": [],
   "source": [
    "import pandas as pd\n",
    "import numpy as np\n",
    "import shap\n",
    "import torch\n",
    "import torch.nn as nn\n",
    "import torch.optim as optim\n",
    "from torch.utils.data import DataLoader, TensorDataset\n",
    "from sklearn.metrics import mean_squared_error, mean_absolute_error\n",
    "from sklearn.model_selection import train_test_split\n",
    "from sklearn.preprocessing import StandardScaler"
   ]
  },
  {
   "cell_type": "markdown",
   "id": "7d15165f-65ac-452d-be2e-916879553447",
   "metadata": {},
   "source": [
    "# Load Updated CSV into Pandas Dataframe¶"
   ]
  },
  {
   "cell_type": "code",
   "execution_count": 2,
   "id": "481bd52e-3204-49ee-835a-da1264f661b0",
   "metadata": {},
   "outputs": [],
   "source": [
    "# Hong et al. Dataset\n",
    "df = pd.read_csv(\"hong_et_al/df_updt.csv\")"
   ]
  },
  {
   "cell_type": "code",
   "execution_count": 3,
   "id": "b0bdb3b0-777a-48aa-8ea4-cc2fa54ca550",
   "metadata": {},
   "outputs": [],
   "source": [
    "# Drop unnecessary columns\n",
    "df = df.drop(columns=df.filter(like='chrkidneydisease').columns)\n",
    "df = df.drop(columns=df.filter(like='chrkidneydisease').columns)\n",
    "df = df.drop(columns=df.filter(like='(pcp)screen').columns)\n",
    "df = df.drop(columns=df.filter(regex='^cc_').columns)\n",
    "df = df.dropna(subset=['egfr_CKD_EPI'])\n",
    "\n",
    "# Impute median data for any remaining NaN values in numeric columns\n",
    "numeric_cols = df.select_dtypes(include=['int64', 'float64']).columns\n",
    "df[numeric_cols] = df[numeric_cols].fillna(df[numeric_cols].median())\n",
    "\n",
    "# Impute mode data for any remaining NaN values in categorical columns\n",
    "categorical_cols = ['dep_name', 'gender', 'ethnicity', 'race', 'lang', 'religion',\n",
    "                    'maritalstatus', 'employstatus', 'insurance_status', 'disposition', 'arrivalmode',\n",
    "                    'arrivalmonth', 'arrivalday', 'arrivalhour_bin', 'previousdispo']\n",
    "\n",
    "# One-hot encode categorical features\n",
    "df = pd.get_dummies(df, columns=categorical_cols)\n",
    "\n",
    "# Ensure no infinite values\n",
    "df.replace([np.inf, -np.inf], np.nan, inplace=True)\n",
    "df.fillna(df.median(), inplace=True)"
   ]
  },
  {
   "cell_type": "code",
   "execution_count": 4,
   "id": "f6dfb95b-a754-4095-8e62-8c31da4ca10e",
   "metadata": {},
   "outputs": [
    {
     "name": "stdout",
     "output_type": "stream",
     "text": [
      "<class 'pandas.core.frame.DataFrame'>\n",
      "Index: 212834 entries, 6 to 560485\n",
      "Columns: 853 entries, esi to previousdispo_Transfer to Another Facility\n",
      "dtypes: bool(100), float64(386), int64(367)\n",
      "memory usage: 1.2 GB\n"
     ]
    }
   ],
   "source": [
    "df.info()"
   ]
  },
  {
   "cell_type": "markdown",
   "id": "9d77cb1e-ae24-443c-b7c9-d26fde1058a3",
   "metadata": {},
   "source": [
    "# Define Train and Test Data Splits"
   ]
  },
  {
   "cell_type": "code",
   "execution_count": 5,
   "id": "e379a880-b2a8-4422-bb33-20fcca446178",
   "metadata": {},
   "outputs": [],
   "source": [
    "# Exclude target variable from features frame\n",
    "X = df.drop(columns=df.filter(like='egfr').columns)\n",
    "y = df['egfr_CKD_EPI']\n",
    "\n",
    "# Split the dataset\n",
    "X_train, X_test, y_train, y_test = train_test_split(X, y, test_size=0.2, random_state=42)\n",
    "\n",
    "# Normalize the numeric features\n",
    "scaler = StandardScaler()\n",
    "X_train = scaler.fit_transform(X_train)\n",
    "X_test = scaler.transform(X_test)\n",
    "\n",
    "# Convert data to PyTorch tensors\n",
    "X_train_tensor = torch.tensor(X_train, dtype=torch.float32)\n",
    "X_test_tensor = torch.tensor(X_test, dtype=torch.float32)\n",
    "y_train_tensor = torch.tensor(y_train.values, dtype=torch.float32).view(-1, 1)\n",
    "y_test_tensor = torch.tensor(y_test.values, dtype=torch.float32).view(-1, 1)\n",
    "\n",
    "# Ensure no NaN values in tensors\n",
    "assert not X_train_tensor.isnan().any(), \"NaN values found in X_train_tensor\"\n",
    "assert not y_train_tensor.isnan().any(), \"NaN values found in y_train_tensor\"\n",
    "\n",
    "# Create DataLoader for batch processing\n",
    "train_dataset = TensorDataset(X_train_tensor, y_train_tensor)\n",
    "test_dataset = TensorDataset(X_test_tensor, y_test_tensor)\n",
    "\n",
    "train_loader = DataLoader(train_dataset, batch_size=64, shuffle=True)\n",
    "test_loader = DataLoader(test_dataset, batch_size=64, shuffle=False)"
   ]
  },
  {
   "cell_type": "markdown",
   "id": "f8147589-59bd-462d-9579-4bd736ad5aa5",
   "metadata": {},
   "source": [
    "# Define Neural Network Architecture"
   ]
  },
  {
   "cell_type": "code",
   "execution_count": 6,
   "id": "dff52232-1202-423b-8f9f-fc1e6e7df29a",
   "metadata": {},
   "outputs": [],
   "source": [
    "class SimpleNN(nn.Module):\n",
    "    def __init__(self, input_dim):\n",
    "        super(SimpleNN, self).__init__()\n",
    "        self.fc1 = nn.Linear(input_dim, 512)\n",
    "        self.fc2 = nn.Linear(512, 256)\n",
    "        self.fc3 = nn.Linear(256, 128)\n",
    "        self.fc4 = nn.Linear(128, 1)\n",
    "        self.relu = nn.ReLU()\n",
    "        self.dropout = nn.Dropout(0.2)\n",
    "\n",
    "    def forward(self, x):\n",
    "        x = self.relu(self.fc1(x))\n",
    "        x = self.dropout(x)\n",
    "        x = self.relu(self.fc2(x))\n",
    "        x = self.dropout(x)\n",
    "        x = self.relu(self.fc3(x))\n",
    "        x = self.dropout(x)\n",
    "        x = self.fc4(x)\n",
    "        return x\n",
    "\n",
    "input_dim = X_train.shape[1]\n",
    "model = SimpleNN(input_dim)"
   ]
  },
  {
   "cell_type": "markdown",
   "id": "205b7030-672a-4cf8-9358-06f09760de70",
   "metadata": {},
   "source": [
    "# Training Loop"
   ]
  },
  {
   "cell_type": "code",
   "execution_count": 7,
   "id": "98061463-b221-456e-9848-708d88a38b26",
   "metadata": {},
   "outputs": [
    {
     "name": "stdout",
     "output_type": "stream",
     "text": [
      "Epoch 1/40, Training Loss: 389.2960932293318, Validation Loss: 88.32814370834076\n",
      "Epoch 2/40, Training Loss: 153.0666476295927, Validation Loss: 51.53857711127571\n",
      "Epoch 3/40, Training Loss: 121.67321357884742, Validation Loss: 53.80292921667701\n",
      "Epoch 4/40, Training Loss: 103.15638757280638, Validation Loss: 63.6793866429601\n",
      "Epoch 5/40, Training Loss: 93.02854951545288, Validation Loss: 35.831682799456715\n",
      "Epoch 6/40, Training Loss: 90.17842726365197, Validation Loss: 44.31403050408349\n",
      "Epoch 7/40, Training Loss: 83.563485208287, Validation Loss: 32.23780753018262\n",
      "Epoch 8/40, Training Loss: 79.82635317131883, Validation Loss: 28.8643836030015\n",
      "Epoch 9/40, Training Loss: 76.62734095972313, Validation Loss: 28.92677808452297\n",
      "Epoch 10/40, Training Loss: 74.99856930216288, Validation Loss: 25.661893273259068\n",
      "Epoch 11/40, Training Loss: 72.52895813389678, Validation Loss: 24.40857630234223\n",
      "Epoch 12/40, Training Loss: 69.33904329864032, Validation Loss: 24.395817803906965\n",
      "Epoch 13/40, Training Loss: 68.08775871976432, Validation Loss: 23.81899608148111\n",
      "Epoch 14/40, Training Loss: 65.47463713226261, Validation Loss: 23.408235176189525\n",
      "Epoch 15/40, Training Loss: 63.06752114939268, Validation Loss: 42.27562215020349\n",
      "Epoch 16/40, Training Loss: 60.22517088668233, Validation Loss: 24.62444554291688\n",
      "Epoch 17/40, Training Loss: 58.858868064579326, Validation Loss: 16.443479575910366\n",
      "Epoch 18/40, Training Loss: 56.020945757952276, Validation Loss: 27.870591450023937\n",
      "Epoch 19/40, Training Loss: 54.13621171566383, Validation Loss: 17.02320847425375\n",
      "Epoch 20/40, Training Loss: 53.20755277760537, Validation Loss: 28.569859268429042\n",
      "Epoch 21/40, Training Loss: 50.22777021867536, Validation Loss: 14.50964861087971\n",
      "Epoch 22/40, Training Loss: 48.912007846137, Validation Loss: 12.68750673228198\n",
      "Epoch 23/40, Training Loss: 46.95064456370575, Validation Loss: 11.865390058036324\n",
      "Epoch 24/40, Training Loss: 45.73799230926066, Validation Loss: 16.860247570473152\n",
      "Epoch 25/40, Training Loss: 44.75977976489721, Validation Loss: 11.305205259237203\n",
      "Epoch 26/40, Training Loss: 43.48466442456509, Validation Loss: 15.799028711633998\n",
      "Epoch 27/40, Training Loss: 41.48408419850266, Validation Loss: 13.319220738189\n",
      "Epoch 28/40, Training Loss: 40.775647478415436, Validation Loss: 13.640235678927677\n",
      "Epoch 29/40, Training Loss: 39.53094187539039, Validation Loss: 11.860178437676874\n",
      "Epoch 30/40, Training Loss: 38.553050387761324, Validation Loss: 10.186596071397936\n",
      "Epoch 31/40, Training Loss: 38.41970086052918, Validation Loss: 10.510185051250744\n",
      "Epoch 32/40, Training Loss: 37.686940536871745, Validation Loss: 14.621628267271024\n",
      "Epoch 33/40, Training Loss: 35.98297654574458, Validation Loss: 14.418380299130002\n",
      "Epoch 34/40, Training Loss: 34.436401983975735, Validation Loss: 13.271866161902029\n",
      "Epoch 35/40, Training Loss: 33.59207595931279, Validation Loss: 10.497610765892464\n",
      "Epoch 36/40, Training Loss: 32.77101686313519, Validation Loss: 27.475056184304727\n",
      "Epoch 37/40, Training Loss: 31.698908259303263, Validation Loss: 10.263628773503118\n",
      "Epoch 38/40, Training Loss: 30.909428752037602, Validation Loss: 10.068452724107393\n",
      "Epoch 39/40, Training Loss: 30.76615494653185, Validation Loss: 9.100007957524365\n",
      "Epoch 40/40, Training Loss: 30.129078220308656, Validation Loss: 14.592682801925385\n"
     ]
    }
   ],
   "source": [
    "# Use GPU if available\n",
    "device = torch.device('cuda' if torch.cuda.is_available() else 'cpu')\n",
    "model.to(device)\n",
    "\n",
    "# Define loss function and optimizer\n",
    "criterion = nn.MSELoss()\n",
    "optimizer = optim.Adam(model.parameters(), lr=0.001)\n",
    "\n",
    "# Training loop\n",
    "epochs = 40\n",
    "for epoch in range(epochs):\n",
    "    model.train()\n",
    "    running_loss = 0.0\n",
    "    for inputs, targets in train_loader:\n",
    "        inputs, targets = inputs.to(device), targets.to(device)\n",
    "\n",
    "        optimizer.zero_grad()\n",
    "        outputs = model(inputs)\n",
    "        loss = criterion(outputs, targets)\n",
    "        loss.backward()\n",
    "        optimizer.step()\n",
    "\n",
    "        running_loss += loss.item()\n",
    "\n",
    "    # Validation loss\n",
    "    model.eval()\n",
    "    val_loss = 0.0\n",
    "    with torch.no_grad():\n",
    "        for inputs, labels in test_loader:\n",
    "            inputs, labels = inputs.to(device), labels.to(device)\n",
    "            outputs = model(inputs)\n",
    "            loss = criterion(outputs, labels)\n",
    "            val_loss += loss.item()\n",
    "\n",
    "    print(f\"Epoch {epoch+1}/{epochs}, Training Loss: {running_loss/len(train_loader)}, Validation Loss: {val_loss/len(test_loader)}\")\n",
    "\n",
    "# Save the trained model\n",
    "torch.save(model.state_dict(), 'model.pth')"
   ]
  },
  {
   "cell_type": "markdown",
   "id": "46f11570-9ba1-4893-a674-8abfae656712",
   "metadata": {},
   "source": [
    "# Evaluate Accuracy on Test Set"
   ]
  },
  {
   "cell_type": "code",
   "execution_count": 8,
   "id": "39dd4bab-02ac-4280-9274-ff004023562f",
   "metadata": {},
   "outputs": [
    {
     "name": "stdout",
     "output_type": "stream",
     "text": [
      "Mean Squared Error: 14.60035514831543\n",
      "Mean Absolute Error: 2.9469079971313477\n"
     ]
    }
   ],
   "source": [
    "# Switch the model to evaluation mode\n",
    "model.eval()\n",
    "\n",
    "# Initialize lists to store predictions and true values\n",
    "all_predictions = []\n",
    "all_labels = []\n",
    "\n",
    "# Predict and evaluate\n",
    "with torch.no_grad():\n",
    "    for inputs, labels in test_loader:\n",
    "        inputs, labels = inputs.to(device), labels.to(device)\n",
    "        outputs = model(inputs)\n",
    "        all_predictions.append(outputs.cpu().numpy())\n",
    "        all_labels.append(labels.cpu().numpy())\n",
    "\n",
    "# Concatenate all batches into a single array\n",
    "all_predictions = np.concatenate(all_predictions)\n",
    "all_labels = np.concatenate(all_labels)\n",
    "\n",
    "# Calculate metrics\n",
    "mse = mean_squared_error(all_labels, all_predictions)\n",
    "mae = mean_absolute_error(all_labels, all_predictions)\n",
    "\n",
    "print(f\"Mean Squared Error: {mse}\")\n",
    "print(f\"Mean Absolute Error: {mae}\")"
   ]
  },
  {
   "cell_type": "code",
   "execution_count": null,
   "id": "5217f8b4-2da3-4921-929c-e0f2ee64873e",
   "metadata": {},
   "outputs": [],
   "source": []
  }
 ],
 "metadata": {
  "kernelspec": {
   "display_name": "Python 3 (ipykernel)",
   "language": "python",
   "name": "python3"
  },
  "language_info": {
   "codemirror_mode": {
    "name": "ipython",
    "version": 3
   },
   "file_extension": ".py",
   "mimetype": "text/x-python",
   "name": "python",
   "nbconvert_exporter": "python",
   "pygments_lexer": "ipython3",
   "version": "3.11.9"
  }
 },
 "nbformat": 4,
 "nbformat_minor": 5
}
