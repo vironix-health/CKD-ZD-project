{
 "cells": [
  {
   "cell_type": "code",
   "execution_count": 1,
   "metadata": {},
   "outputs": [],
   "source": [
    "import pandas as pd\n",
    "import numpy as np"
   ]
  },
  {
   "cell_type": "markdown",
   "metadata": {},
   "source": [
    "# Import MIMIC-IV Data Extracts"
   ]
  },
  {
   "cell_type": "code",
   "execution_count": 2,
   "metadata": {},
   "outputs": [],
   "source": [
    "df_patients = pd.read_pickle('df_all_patients.pkl')\n",
    "df_icd = pd.read_pickle('df_icd_codes_with_description.pkl')\n",
    "df_lab_events = pd.read_pickle('df_lab_events.pkl')\n",
    "df_ckd_lab_items = pd.read_pickle('df_ckd_lab_items.pkl')"
   ]
  },
  {
   "cell_type": "markdown",
   "metadata": {},
   "source": [
    "# Retrieve Number of Unique Patients and Hospitalisations"
   ]
  },
  {
   "cell_type": "code",
   "execution_count": 3,
   "metadata": {},
   "outputs": [
    {
     "name": "stdout",
     "output_type": "stream",
     "text": [
      "There are 180,640 unique patients and 430,852 unique hospitalisations in MIMIC-IV related to ICD-9 data.\n"
     ]
    }
   ],
   "source": [
    "# no of patients and hospital admissions related to icd9 data in MIMIC-IV\n",
    "no_of_unique_patients = df_icd.subject_id.nunique()\n",
    "no_of_unique_hospitalisations = df_icd.hadm_id.nunique()\n",
    "print(f\"There are {no_of_unique_patients:,} unique patients and {no_of_unique_hospitalisations:,} unique hospitalisations in MIMIC-IV related to ICD-9 data.\")\n"
   ]
  },
  {
   "cell_type": "markdown",
   "metadata": {},
   "source": [
    "# Retrieve Number of CKD Patients and Hospitalisations"
   ]
  },
  {
   "cell_type": "code",
   "execution_count": 4,
   "metadata": {},
   "outputs": [
    {
     "name": "stdout",
     "output_type": "stream",
     "text": [
      "There are 14,012 unique CKD patients and 37,423 unique hospitalisations in MIMIC-IV, as classified by the doctor using ICD-9 codes.\n"
     ]
    }
   ],
   "source": [
    "# CKD patients in MIMIC-IV have ICD-9 codes 585.1, 585.2, 585.3, 585.4, 585.5, 585.6, 585.9\n",
    "# subset the patients with icd codes starting with 585\n",
    "df_icd_585 = df_icd[df_icd['icd_code'].str.startswith('585')]\n",
    "\n",
    "# no of CKD patients and hospital admissions related to icd9 data in MIMIC-IV\n",
    "no_of_unique_CKD_patients = df_icd_585.subject_id.nunique()\n",
    "no_of_unique_CKD_hospitalisations = df_icd_585.hadm_id.nunique()\n",
    "print(f\"There are {no_of_unique_CKD_patients:,} unique CKD patients and {no_of_unique_CKD_hospitalisations:,} unique hospitalisations in MIMIC-IV, \\\n",
    "as classified by the doctor using ICD-9 codes.\")\n"
   ]
  },
  {
   "cell_type": "markdown",
   "metadata": {},
   "source": [
    "# Retrieve Number of Diabetes Patients and Hospitalisations"
   ]
  },
  {
   "cell_type": "code",
   "execution_count": 5,
   "metadata": {},
   "outputs": [
    {
     "name": "stdout",
     "output_type": "stream",
     "text": [
      "There are 24,378 unique diabetes patients and 64,144 unique hospitalisations in MIMIC-IV, as classified by the doctor using ICD-9 codes.\n"
     ]
    }
   ],
   "source": [
    "# Diabetes patients in MIMIC-IV have ICD-9 codes 250.0, 250.1, 250.2, 250.3, 250.4, 250.5, 250.6, 250.7, 250.8, 250.9\n",
    "# subset the patients with icd codes starting with 250\n",
    "df_icd_250 = df_icd[df_icd['icd_code'].str.startswith('250')]\n",
    "\n",
    "# no of diabetes patients and hospital admissions related to icd9 data in MIMIC-IV\n",
    "no_of_unique_diab_patients = df_icd_250.subject_id.nunique()\n",
    "no_of_unique_diab_hospitalisations = df_icd_250.hadm_id.nunique()\n",
    "print(f\"There are {no_of_unique_diab_patients:,} unique diabetes patients and {no_of_unique_diab_hospitalisations:,} unique hospitalisations in MIMIC-IV, \\\n",
    "as classified by the doctor using ICD-9 codes.\")\n"
   ]
  },
  {
   "cell_type": "markdown",
   "metadata": {},
   "source": [
    "# Retrieve Number of Hypertension Patients and Hospitalisations"
   ]
  },
  {
   "cell_type": "code",
   "execution_count": 6,
   "metadata": {},
   "outputs": [
    {
     "name": "stdout",
     "output_type": "stream",
     "text": [
      "There are 58,953 unique hypertension patients and 134,505 unique hospitalisations in MIMIC-IV, as classified by the doctor using ICD-9 codes.\n"
     ]
    }
   ],
   "source": [
    "# Hyertension patients in MIMIC-IV have ICD-9 codes 401-405\n",
    "# subset the patients with icd codes starting with 401-405\n",
    "df_icd_401_405 = df_icd[df_icd['icd_code'].str.startswith(\n",
    "    ('401', '402', '403', '404', '405'))]\n",
    "\n",
    "# no of hypertension patients and hospital admissions related to icd9 data in MIMIC-IV\n",
    "no_of_unique_hypertension_patients = df_icd_401_405.subject_id.nunique()\n",
    "no_of_unique_hypertension_hospitalisations = df_icd_401_405.hadm_id.nunique()\n",
    "print(f\"There are {no_of_unique_hypertension_patients:,} unique hypertension patients and {no_of_unique_hypertension_hospitalisations:,} unique \\\n",
    "hospitalisations in MIMIC-IV, as classified by the doctor using ICD-9 codes.\")\n"
   ]
  },
  {
   "cell_type": "markdown",
   "metadata": {},
   "source": [
    "# Retrieve Number of Heart Failure Patients and Hospitalisations"
   ]
  },
  {
   "cell_type": "code",
   "execution_count": 7,
   "metadata": {},
   "outputs": [
    {
     "name": "stdout",
     "output_type": "stream",
     "text": [
      "There are 14,794 unique heart failure patients and 35,560 unique hospitalisations in MIMIC-IV, as classified by the doctor using ICD-9 codes.\n"
     ]
    }
   ],
   "source": [
    "# Heart Failure patients in MIMIC-IV have ICD-9 codes 428.x\n",
    "# subset the patients with icd codes starting with 428\n",
    "df_icd_428 = df_icd[df_icd['icd_code'].str.startswith('428')]\n",
    "\n",
    "# no of heart failure patients and hospital admissions related to icd9 data in MIMIC-IV\n",
    "no_of_unique_heart_failure_patients = df_icd_428.subject_id.nunique()\n",
    "no_of_unique_heart_failure_hospitalisations = df_icd_428.hadm_id.nunique()\n",
    "print(f\"There are {no_of_unique_heart_failure_patients:,} unique heart failure patients and {no_of_unique_heart_failure_hospitalisations:,} \\\n",
    "unique hospitalisations in MIMIC-IV, as classified by the doctor using ICD-9 codes.\")\n"
   ]
  },
  {
   "cell_type": "markdown",
   "metadata": {},
   "source": [
    "# Retrieve Number of Ischemic Heart Disease Patients and Hospitalisations"
   ]
  },
  {
   "cell_type": "code",
   "execution_count": 8,
   "metadata": {},
   "outputs": [
    {
     "name": "stdout",
     "output_type": "stream",
     "text": [
      "There are 23,468 unique ischemic heart disease patients with 51,705 unique hospitalisations in MIMIC-IV, as classified by the doctor using ICD-9 codes.\n"
     ]
    }
   ],
   "source": [
    "# Ischemic Heart Disease patients in MIMIC-IV have ICD-9 codes 410-414\n",
    "# subset the patients with icd codes starting with 410-414\n",
    "df_icd_410_414 = df_icd[df_icd['icd_code'].str.startswith(\n",
    "    ('410', '411', '412', '413', '414'))]\n",
    "\n",
    "# no of ischemic heart disease patients and hospital admissions related to icd9 data in MIMIC-IV\n",
    "no_of_unique_ischemic_heart_disease_patients = df_icd_410_414.subject_id.nunique()\n",
    "no_of_unique_ischemic_heart_disease_hospitalisations = df_icd_410_414.hadm_id.nunique()\n",
    "print(f\"There are {no_of_unique_ischemic_heart_disease_patients:,} unique ischemic heart disease patients with \\\n",
    "{no_of_unique_ischemic_heart_disease_hospitalisations:,} unique hospitalisations in MIMIC-IV, as classified by the doctor using ICD-9 codes.\")\n"
   ]
  },
  {
   "cell_type": "markdown",
   "metadata": {},
   "source": [
    "# Retrieve Number of Cererbrovascular Disease Patients and Hospitalisations"
   ]
  },
  {
   "cell_type": "code",
   "execution_count": 9,
   "metadata": {},
   "outputs": [
    {
     "name": "stdout",
     "output_type": "stream",
     "text": [
      "There are 11,302 unique cererbrovascular disease patients with 16,732 unique hospitalisations in MIMIC-IV, as classified by the doctor using ICD-9 codes.\n"
     ]
    }
   ],
   "source": [
    "# Cererbrovascular Disease patients in MIMIC-IV have ICD-9 codes 430-438\n",
    "# subset the patients with icd codes starting with 430-438\n",
    "df_icd_430_438 = df_icd[df_icd['icd_code'].str.startswith(\n",
    "    ('430', '431', '432', '433', '434', '435', '436', '437', '438'))]\n",
    "\n",
    "# no of cererbrovascular disease patients and hospital admissions related to icd9 data in MIMIC-IV\n",
    "no_of_unique_cererbrovascular_disease_patients = df_icd_430_438.subject_id.nunique()\n",
    "no_of_unique_cererbrovascular_disease_hospitalisations = df_icd_430_438.hadm_id.nunique()\n",
    "print(f\"There are {no_of_unique_cererbrovascular_disease_patients:,} unique cererbrovascular disease patients with \\\n",
    "{no_of_unique_cererbrovascular_disease_hospitalisations:,} unique hospitalisations in MIMIC-IV, as classified by the doctor using ICD-9 codes.\")\n"
   ]
  },
  {
   "cell_type": "markdown",
   "metadata": {},
   "source": [
    "# Retrieve Number of PVD Disease Patients and Hospitalisations"
   ]
  },
  {
   "cell_type": "code",
   "execution_count": 10,
   "metadata": {},
   "outputs": [
    {
     "name": "stdout",
     "output_type": "stream",
     "text": [
      "There are 8,498 unique PVD patients and 18,016 unique hospitalisations in MIMIC-IV, as classified by the doctor using ICD-9 codes.\n"
     ]
    }
   ],
   "source": [
    "# PVD patients in MIMIC-IV have ICD-9 codes 440, 441, 443\n",
    "# subset the patients with icd codes starting with 440, 441, 443\n",
    "df_icd_440_441_443 = df_icd[df_icd['icd_code'].str.startswith(\n",
    "    ('440', '441', '443'))]\n",
    "\n",
    "# no of PVD patients and hospital admissions related to icd9 data in MIMIC-IV\n",
    "no_of_unique_PVD_patients = df_icd_440_441_443.subject_id.nunique()\n",
    "no_of_unique_PVD_hospitalisations = df_icd_440_441_443.hadm_id.nunique()\n",
    "print(f\"There are {no_of_unique_PVD_patients:,} unique PVD patients and {no_of_unique_PVD_hospitalisations:,} unique hospitalisations in MIMIC-IV, \\\n",
    "as classified by the doctor using ICD-9 codes.\")\n"
   ]
  },
  {
   "cell_type": "markdown",
   "metadata": {},
   "source": [
    "# Retrieve Number of Cardiac Disarrhythmias Disease Patients and Hospitalisations"
   ]
  },
  {
   "cell_type": "code",
   "execution_count": 11,
   "metadata": {},
   "outputs": [
    {
     "name": "stdout",
     "output_type": "stream",
     "text": [
      "There are 24,201 unique cardiac disarrhythmias patients with 46,413 unique hospitalisations in MIMIC-IV, as classified by the doctor using ICD-9 codes.\n"
     ]
    }
   ],
   "source": [
    "# cardiac disarrhythmias patients in MIMIC-IV have ICD-9 codes 427\n",
    "# subset the patients with icd codes starting with 427\n",
    "df_icd_427 = df_icd[df_icd['icd_code'].str.startswith('427')]\n",
    "\n",
    "# no of cardiac disarrhythmias patients and hospital admissions related to icd9 data in MIMIC-IV\n",
    "no_of_unique_cardiac_disarrhythmias_patients = df_icd_427.subject_id.nunique()\n",
    "no_of_unique_cardiac_disarrhythmias_hospitalisations = df_icd_427.hadm_id.nunique()\n",
    "print(f\"There are {no_of_unique_cardiac_disarrhythmias_patients:,} unique cardiac disarrhythmias patients with \\\n",
    "{no_of_unique_cardiac_disarrhythmias_hospitalisations:,} unique hospitalisations in MIMIC-IV, as classified by the doctor using ICD-9 codes.\")\n"
   ]
  },
  {
   "cell_type": "markdown",
   "metadata": {},
   "source": [
    "# Retrieve Number of Anemia Disease Patients and Hospitalisations"
   ]
  },
  {
   "cell_type": "code",
   "execution_count": 12,
   "metadata": {},
   "outputs": [
    {
     "name": "stdout",
     "output_type": "stream",
     "text": [
      "There are 32,399 unique anemia patients and 59,369 unique hospitalisations in MIMIC-IV, as classified by the doctor using ICD-9 codes.\n"
     ]
    }
   ],
   "source": [
    "# Anemia patients in MIMIC-IV have ICD-9 codes 280-285\n",
    "# subset the patients with icd codes starting with 280-285\n",
    "df_icd_280_285 = df_icd[df_icd['icd_code'].str.startswith(\n",
    "    ('280', '281', '282', '283', '284', '285'))]\n",
    "\n",
    "# no of anemia patients and hospital admissions related to icd9 data in MIMIC-IV\n",
    "no_of_unique_anemia_patients = df_icd_280_285.subject_id.nunique()\n",
    "no_of_unique_anemia_hospitalisations = df_icd_280_285.hadm_id.nunique()\n",
    "print(f\"There are {no_of_unique_anemia_patients:,} unique anemia patients and {no_of_unique_anemia_hospitalisations:,} unique hospitalisations \\\n",
    "in MIMIC-IV, as classified by the doctor using ICD-9 codes.\")\n"
   ]
  },
  {
   "cell_type": "markdown",
   "metadata": {},
   "source": [
    "# Retrieve Number of Thyroid Disease Patients and Hospitalisations"
   ]
  },
  {
   "cell_type": "code",
   "execution_count": 13,
   "metadata": {},
   "outputs": [
    {
     "name": "stdout",
     "output_type": "stream",
     "text": [
      "There are 15,831 unique thyroid disease patients and 33,087 unique hospitalisations in MIMIC-IV, as classified by the doctor using ICD-9 codes.\n"
     ]
    }
   ],
   "source": [
    "# thyroid disease patients in MIMIC-IV have ICD-9 codes 240-246\n",
    "# subset the patients with icd codes starting with 240-246\n",
    "df_icd_240_246 = df_icd[df_icd['icd_code'].str.startswith(\n",
    "    ('240', '241', '242', '243', '244', '245', '246'))]\n",
    "\n",
    "# no of thyroid disease patients and hospital admissions related to icd9 data in MIMIC-IV\n",
    "no_of_unique_thyroid_disease_patients = df_icd_240_246.subject_id.nunique()\n",
    "no_of_unique_thyroid_disease_hospitalisations = df_icd_240_246.hadm_id.nunique()\n",
    "print(f\"There are {no_of_unique_thyroid_disease_patients:,} unique thyroid disease patients and {no_of_unique_thyroid_disease_hospitalisations:,} \\\n",
    "unique hospitalisations in MIMIC-IV, as classified by the doctor using ICD-9 codes.\")\n"
   ]
  },
  {
   "cell_type": "markdown",
   "metadata": {},
   "source": [
    "# Construct Dataframe of Disease and Hospitalisation Frequency"
   ]
  },
  {
   "cell_type": "code",
   "execution_count": 14,
   "metadata": {},
   "outputs": [
    {
     "data": {
      "text/html": [
       "<div>\n",
       "<style scoped>\n",
       "    .dataframe tbody tr th:only-of-type {\n",
       "        vertical-align: middle;\n",
       "    }\n",
       "\n",
       "    .dataframe tbody tr th {\n",
       "        vertical-align: top;\n",
       "    }\n",
       "\n",
       "    .dataframe thead th {\n",
       "        text-align: right;\n",
       "    }\n",
       "</style>\n",
       "<table border=\"1\" class=\"dataframe\">\n",
       "  <thead>\n",
       "    <tr style=\"text-align: right;\">\n",
       "      <th></th>\n",
       "      <th>Disease</th>\n",
       "      <th>Patient Frequency</th>\n",
       "      <th>Hospitalisation Frequency</th>\n",
       "    </tr>\n",
       "  </thead>\n",
       "  <tbody>\n",
       "    <tr>\n",
       "      <th>0</th>\n",
       "      <td>Hypertension</td>\n",
       "      <td>58953</td>\n",
       "      <td>134505</td>\n",
       "    </tr>\n",
       "    <tr>\n",
       "      <th>1</th>\n",
       "      <td>Anemia</td>\n",
       "      <td>32399</td>\n",
       "      <td>59369</td>\n",
       "    </tr>\n",
       "    <tr>\n",
       "      <th>2</th>\n",
       "      <td>Diabetes</td>\n",
       "      <td>24378</td>\n",
       "      <td>64144</td>\n",
       "    </tr>\n",
       "    <tr>\n",
       "      <th>3</th>\n",
       "      <td>Cardiac Disarrhythmias</td>\n",
       "      <td>24201</td>\n",
       "      <td>46413</td>\n",
       "    </tr>\n",
       "    <tr>\n",
       "      <th>4</th>\n",
       "      <td>Ischemic Heart Disease</td>\n",
       "      <td>23468</td>\n",
       "      <td>51705</td>\n",
       "    </tr>\n",
       "    <tr>\n",
       "      <th>5</th>\n",
       "      <td>Thyroid Disease</td>\n",
       "      <td>15831</td>\n",
       "      <td>33087</td>\n",
       "    </tr>\n",
       "    <tr>\n",
       "      <th>6</th>\n",
       "      <td>Heart Failure</td>\n",
       "      <td>14794</td>\n",
       "      <td>35560</td>\n",
       "    </tr>\n",
       "    <tr>\n",
       "      <th>7</th>\n",
       "      <td>CKD</td>\n",
       "      <td>14012</td>\n",
       "      <td>37423</td>\n",
       "    </tr>\n",
       "    <tr>\n",
       "      <th>8</th>\n",
       "      <td>Cererbrovascular Disease</td>\n",
       "      <td>11302</td>\n",
       "      <td>16732</td>\n",
       "    </tr>\n",
       "    <tr>\n",
       "      <th>9</th>\n",
       "      <td>PVD</td>\n",
       "      <td>8498</td>\n",
       "      <td>18016</td>\n",
       "    </tr>\n",
       "  </tbody>\n",
       "</table>\n",
       "</div>"
      ],
      "text/plain": [
       "                    Disease  Patient Frequency  Hospitalisation Frequency\n",
       "0              Hypertension              58953                     134505\n",
       "1                    Anemia              32399                      59369\n",
       "2                  Diabetes              24378                      64144\n",
       "3    Cardiac Disarrhythmias              24201                      46413\n",
       "4    Ischemic Heart Disease              23468                      51705\n",
       "5           Thyroid Disease              15831                      33087\n",
       "6             Heart Failure              14794                      35560\n",
       "7                       CKD              14012                      37423\n",
       "8  Cererbrovascular Disease              11302                      16732\n",
       "9                       PVD               8498                      18016"
      ]
     },
     "execution_count": 14,
     "metadata": {},
     "output_type": "execute_result"
    }
   ],
   "source": [
    "# Table 1: diseases frequency of MIMIC-IV patients and hospitalisations\n",
    "\n",
    "# create a dataframe with the diseases and their frequencies\n",
    "df_diseases = pd.DataFrame({'Disease': ['CKD', 'Diabetes', 'Hypertension', 'Heart Failure', 'Ischemic Heart Disease',\n",
    "                                        'Cererbrovascular Disease', 'PVD', 'Cardiac Disarrhythmias', 'Anemia', 'Thyroid Disease'],\n",
    "                            'Patient Frequency': [no_of_unique_CKD_patients, no_of_unique_diab_patients, no_of_unique_hypertension_patients,\n",
    "                                                  no_of_unique_heart_failure_patients, no_of_unique_ischemic_heart_disease_patients,\n",
    "                                                  no_of_unique_cererbrovascular_disease_patients, no_of_unique_PVD_patients,\n",
    "                                                  no_of_unique_cardiac_disarrhythmias_patients, no_of_unique_anemia_patients,\n",
    "                                                  no_of_unique_thyroid_disease_patients]})\n",
    "df_diseases['Hospitalisation Frequency'] = [no_of_unique_CKD_hospitalisations, no_of_unique_diab_hospitalisations, no_of_unique_hypertension_hospitalisations,\n",
    "                                            no_of_unique_heart_failure_hospitalisations, no_of_unique_ischemic_heart_disease_hospitalisations,\n",
    "                                            no_of_unique_cererbrovascular_disease_hospitalisations, no_of_unique_PVD_hospitalisations,\n",
    "                                            no_of_unique_cardiac_disarrhythmias_hospitalisations, no_of_unique_anemia_hospitalisations,\n",
    "                                            no_of_unique_thyroid_disease_hospitalisations]\n",
    "df_diseases = df_diseases.sort_values(by='Patient Frequency', ascending=False)\n",
    "df_diseases = df_diseases.reset_index(drop=True)\n",
    "df_diseases\n"
   ]
  },
  {
   "cell_type": "code",
   "execution_count": 15,
   "metadata": {},
   "outputs": [],
   "source": [
    "df_diseases.to_excel('df_diseases_frequency.xlsx', index=False)"
   ]
  }
 ],
 "metadata": {
  "kernelspec": {
   "display_name": "Python 3 (ipykernel)",
   "language": "python",
   "name": "python3"
  },
  "language_info": {
   "codemirror_mode": {
    "name": "ipython",
    "version": 3
   },
   "file_extension": ".py",
   "mimetype": "text/x-python",
   "name": "python",
   "nbconvert_exporter": "python",
   "pygments_lexer": "ipython3",
   "version": "3.11.9"
  }
 },
 "nbformat": 4,
 "nbformat_minor": 4
}
