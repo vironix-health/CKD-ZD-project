{
 "cells": [
  {
   "cell_type": "code",
   "execution_count": 1,
   "id": "f78c6a5e-bef2-4168-96fd-b8845e3c94ed",
   "metadata": {},
   "outputs": [],
   "source": [
    "import sys\n",
    "import os\n",
    "\n",
    "# Use os.getcwd() to get the current working directory in a Jupyter notebook\n",
    "parent_dir = os.path.dirname(os.getcwd())  # Get the parent directory of the current working directory\n",
    "sys.path.append(parent_dir)"
   ]
  },
  {
   "cell_type": "code",
   "execution_count": 2,
   "id": "5aba6f13-9bc9-4238-8d1f-17fdfd364152",
   "metadata": {},
   "outputs": [],
   "source": [
    "import pandas as pd\n",
    "from skopt.space import Real, Integer\n",
    "from driver import Driver"
   ]
  },
  {
   "cell_type": "markdown",
   "id": "77d4c63b-e6fa-489b-9431-c3f17d465bb3",
   "metadata": {},
   "source": [
    "# Load Cleaned Master MIMIC-IV Dataset"
   ]
  },
  {
   "cell_type": "code",
   "execution_count": 3,
   "id": "93426b04-0b96-4984-90f1-9fd62cc3cb3c",
   "metadata": {},
   "outputs": [],
   "source": [
    "# Cleaned Master MIMIC Data Set\n",
    "df_master = pd.read_pickle('../MIMIC_IV/df_ckd_master_clean.pkl')\n",
    "df_base = pd.read_pickle('../MIMIC_IV/df_ckd_base.pkl')"
   ]
  },
  {
   "cell_type": "markdown",
   "id": "2bf5520d-b89a-48de-9de5-417b63832d27",
   "metadata": {},
   "source": [
    "# Evaluate LinearSVM Pipeline"
   ]
  },
  {
   "cell_type": "code",
   "execution_count": null,
   "id": "02a2a41a-03e7-4e14-b65f-f63d3a377576",
   "metadata": {},
   "outputs": [
    {
     "name": "stdout",
     "output_type": "stream",
     "text": [
      "Testing params: {'C': 0.7985775569916307}\n"
     ]
    }
   ],
   "source": [
    "LinearSVM_cfg = {\n",
    "    'tag': 'lsvm', # Identifier tag for feature selection model\n",
    "    'response': 'stage_delta',  # Response variable for binary classification and Cox Proportional Hazards\n",
    "    'duration': 'duration', # Duration in days until response or censorship\n",
    "    'n_novel': 40, # Number of ranked novel features included in augmented KFRE dataset\n",
    "    'test_size': 0.1, # Ratio of data reserved for testing\n",
    "    'val_size': 0.2, # Ratio of data reserved for testing in validation sets\n",
    "    'n_valsets': 5, # Number of training validation sets\n",
    "    'n_bayesian': 10, # Number of Bayesian hyperparameter optimization iterations \n",
    "    'n_folds': 5, # Number of folds for CoxPH cross validation\n",
    "    'penalizer': 0.0007, # CoxPH model penalizer\n",
    "    'auc_space': [\n",
    "        Real(0.01, 1.0, name=\"C\")\n",
    "    ], # Search space for Bayesian hyperparameter optimization\n",
    "    'random_state': 42 # Seed for reproducibility\n",
    "}\n",
    "\n",
    "driver = Driver(LinearSVM_cfg, df_master, df_base)\n",
    "driver.ClassicalLearningPipe()"
   ]
  },
  {
   "cell_type": "code",
   "execution_count": null,
   "id": "1912e5c8-d6a4-48b9-a673-9232af9e3983",
   "metadata": {},
   "outputs": [],
   "source": []
  }
 ],
 "metadata": {
  "kernelspec": {
   "display_name": "Python 3 (ipykernel)",
   "language": "python",
   "name": "python3"
  },
  "language_info": {
   "codemirror_mode": {
    "name": "ipython",
    "version": 3
   },
   "file_extension": ".py",
   "mimetype": "text/x-python",
   "name": "python",
   "nbconvert_exporter": "python",
   "pygments_lexer": "ipython3",
   "version": "3.11.9"
  }
 },
 "nbformat": 4,
 "nbformat_minor": 5
}
