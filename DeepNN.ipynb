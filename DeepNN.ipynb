{
 "cells": [
  {
   "cell_type": "markdown",
   "id": "26d4354a-d7de-418a-a621-7cfa0f0d2ff2",
   "metadata": {},
   "source": [
    "# Import Necessary Headers"
   ]
  },
  {
   "cell_type": "code",
   "execution_count": 10,
   "id": "b89c2677-3fc8-420e-9b34-b175a1bbd0d2",
   "metadata": {},
   "outputs": [],
   "source": [
    "import pandas as pd\n",
    "import numpy as np\n",
    "import shap\n",
    "import torch\n",
    "import torch.nn as nn\n",
    "import torch.optim as optim\n",
    "from torch.utils.data import DataLoader, TensorDataset\n",
    "from sklearn.model_selection import train_test_split\n",
    "from sklearn.preprocessing import StandardScaler"
   ]
  },
  {
   "cell_type": "markdown",
   "id": "7d15165f-65ac-452d-be2e-916879553447",
   "metadata": {},
   "source": [
    "# Load Updated CSV into Pandas Dataframe¶"
   ]
  },
  {
   "cell_type": "code",
   "execution_count": 2,
   "id": "481bd52e-3204-49ee-835a-da1264f661b0",
   "metadata": {},
   "outputs": [],
   "source": [
    "# Hong et al. Dataset\n",
    "df = pd.read_csv(\"hong_et_al/df_updt.csv\")"
   ]
  },
  {
   "cell_type": "code",
   "execution_count": 3,
   "id": "b0bdb3b0-777a-48aa-8ea4-cc2fa54ca550",
   "metadata": {},
   "outputs": [],
   "source": [
    "# Drop unnecessary columns\n",
    "df = df.drop(columns=df.filter(like='chrkidneydisease').columns)\n",
    "df = df.drop(columns=df.filter(like='chrkidneydisease').columns)\n",
    "df = df.drop(columns=df.filter(like='(pcp)screen').columns)\n",
    "df = df.drop(columns=df.filter(regex='^cc_').columns)\n",
    "df = df.dropna(subset=['egfr_CKD_EPI'])\n",
    "\n",
    "# Impute median data for any remaining NaN values in numeric columns\n",
    "numeric_cols = df.select_dtypes(include=['int64', 'float64']).columns\n",
    "df[numeric_cols] = df[numeric_cols].fillna(df[numeric_cols].median())\n",
    "\n",
    "# Impute mode data for any remaining NaN values in categorical columns\n",
    "categorical_cols = ['dep_name', 'gender', 'ethnicity', 'race', 'lang', 'religion',\n",
    "                    'maritalstatus', 'employstatus', 'insurance_status', 'disposition', 'arrivalmode',\n",
    "                    'arrivalmonth', 'arrivalday', 'arrivalhour_bin', 'previousdispo']\n",
    "\n",
    "# One-hot encode categorical features\n",
    "df = pd.get_dummies(df, columns=categorical_cols)\n",
    "\n",
    "# Ensure no infinite values\n",
    "df.replace([np.inf, -np.inf], np.nan, inplace=True)\n",
    "df.fillna(df.median(), inplace=True)"
   ]
  },
  {
   "cell_type": "code",
   "execution_count": 4,
   "id": "f6dfb95b-a754-4095-8e62-8c31da4ca10e",
   "metadata": {},
   "outputs": [
    {
     "name": "stdout",
     "output_type": "stream",
     "text": [
      "<class 'pandas.core.frame.DataFrame'>\n",
      "Index: 212834 entries, 6 to 560485\n",
      "Columns: 853 entries, esi to previousdispo_Transfer to Another Facility\n",
      "dtypes: bool(100), float64(386), int64(367)\n",
      "memory usage: 1.2 GB\n"
     ]
    }
   ],
   "source": [
    "df.info()"
   ]
  },
  {
   "cell_type": "markdown",
   "id": "9d77cb1e-ae24-443c-b7c9-d26fde1058a3",
   "metadata": {},
   "source": [
    "# Define Train and Test Data Splits"
   ]
  },
  {
   "cell_type": "code",
   "execution_count": 5,
   "id": "e379a880-b2a8-4422-bb33-20fcca446178",
   "metadata": {},
   "outputs": [],
   "source": [
    "# Exclude target variable from features frame\n",
    "X = df.drop(columns=df.filter(like='egfr').columns)\n",
    "y = df['egfr_CKD_EPI']\n",
    "\n",
    "# Split the dataset\n",
    "X_train, X_test, y_train, y_test = train_test_split(X, y, test_size=0.2, random_state=42)\n",
    "\n",
    "# Normalize the numeric features\n",
    "scaler = StandardScaler()\n",
    "X_train = scaler.fit_transform(X_train)\n",
    "X_test = scaler.transform(X_test)\n",
    "\n",
    "# Convert data to PyTorch tensors\n",
    "X_train_tensor = torch.tensor(X_train, dtype=torch.float32)\n",
    "X_test_tensor = torch.tensor(X_test, dtype=torch.float32)\n",
    "y_train_tensor = torch.tensor(y_train.values, dtype=torch.float32).view(-1, 1)\n",
    "y_test_tensor = torch.tensor(y_test.values, dtype=torch.float32).view(-1, 1)\n",
    "\n",
    "# Ensure no NaN values in tensors\n",
    "assert not X_train_tensor.isnan().any(), \"NaN values found in X_train_tensor\"\n",
    "assert not y_train_tensor.isnan().any(), \"NaN values found in y_train_tensor\"\n",
    "\n",
    "# Create DataLoader for batch processing\n",
    "train_dataset = TensorDataset(X_train_tensor, y_train_tensor)\n",
    "test_dataset = TensorDataset(X_test_tensor, y_test_tensor)\n",
    "\n",
    "train_loader = DataLoader(train_dataset, batch_size=64, shuffle=True)\n",
    "test_loader = DataLoader(test_dataset, batch_size=64, shuffle=False)"
   ]
  },
  {
   "cell_type": "markdown",
   "id": "f8147589-59bd-462d-9579-4bd736ad5aa5",
   "metadata": {},
   "source": [
    "# Define Neural Network Architecture"
   ]
  },
  {
   "cell_type": "code",
   "execution_count": 6,
   "id": "dff52232-1202-423b-8f9f-fc1e6e7df29a",
   "metadata": {},
   "outputs": [],
   "source": [
    "class SimpleNN(nn.Module):\n",
    "    def __init__(self, input_dim):\n",
    "        super(SimpleNN, self).__init__()\n",
    "        self.fc1 = nn.Linear(input_dim, 512)\n",
    "        self.fc2 = nn.Linear(512, 256)\n",
    "        self.fc3 = nn.Linear(256, 128)\n",
    "        self.fc4 = nn.Linear(128, 1)\n",
    "        self.relu = nn.ReLU()\n",
    "        self.dropout = nn.Dropout(0.2)\n",
    "\n",
    "    def forward(self, x):\n",
    "        x = self.relu(self.fc1(x))\n",
    "        x = self.dropout(x)\n",
    "        x = self.relu(self.fc2(x))\n",
    "        x = self.dropout(x)\n",
    "        x = self.relu(self.fc3(x))\n",
    "        x = self.dropout(x)\n",
    "        x = self.fc4(x)\n",
    "        return x\n",
    "\n",
    "input_dim = X_train.shape[1]\n",
    "model = SimpleNN(input_dim)"
   ]
  },
  {
   "cell_type": "markdown",
   "id": "205b7030-672a-4cf8-9358-06f09760de70",
   "metadata": {},
   "source": [
    "# Training Loop"
   ]
  },
  {
   "cell_type": "code",
   "execution_count": 7,
   "id": "98061463-b221-456e-9848-708d88a38b26",
   "metadata": {},
   "outputs": [
    {
     "name": "stdout",
     "output_type": "stream",
     "text": [
      "Epoch 1/50, Loss: 378.8275669847651\n",
      "Epoch 2/50, Loss: 164.56689022197529\n",
      "Epoch 3/50, Loss: 125.94718625177256\n",
      "Epoch 4/50, Loss: 110.03567397079267\n",
      "Epoch 5/50, Loss: 93.53707371811721\n",
      "Epoch 6/50, Loss: 87.41872566134263\n",
      "Epoch 7/50, Loss: 83.33997437578536\n",
      "Epoch 8/50, Loss: 80.28939761133492\n",
      "Epoch 9/50, Loss: 75.43726235769243\n",
      "Epoch 10/50, Loss: 74.76427598413512\n",
      "Epoch 11/50, Loss: 70.76925529442708\n",
      "Epoch 12/50, Loss: 68.64693345346204\n",
      "Epoch 13/50, Loss: 68.10246276855469\n",
      "Epoch 14/50, Loss: 66.63315330829356\n",
      "Epoch 15/50, Loss: 64.60836514097011\n",
      "Epoch 16/50, Loss: 63.311407531485976\n",
      "Epoch 17/50, Loss: 60.82504834415589\n",
      "Epoch 18/50, Loss: 59.66191792479138\n",
      "Epoch 19/50, Loss: 57.62744734261279\n",
      "Epoch 20/50, Loss: 56.718427256684876\n",
      "Epoch 21/50, Loss: 55.088863367068505\n",
      "Epoch 22/50, Loss: 53.147022518256875\n",
      "Epoch 23/50, Loss: 51.89373515235531\n",
      "Epoch 24/50, Loss: 50.232253775297366\n",
      "Epoch 25/50, Loss: 48.588943937316685\n",
      "Epoch 26/50, Loss: 47.05668720989378\n",
      "Epoch 27/50, Loss: 45.817114049803266\n",
      "Epoch 28/50, Loss: 44.18907514240275\n",
      "Epoch 29/50, Loss: 43.18528334048851\n",
      "Epoch 30/50, Loss: 41.67555789022865\n",
      "Epoch 31/50, Loss: 41.174677829104496\n",
      "Epoch 32/50, Loss: 40.110436312285906\n",
      "Epoch 33/50, Loss: 39.42205912974579\n",
      "Epoch 34/50, Loss: 38.13513870769674\n",
      "Epoch 35/50, Loss: 37.72843130456465\n",
      "Epoch 36/50, Loss: 37.067375433619695\n",
      "Epoch 37/50, Loss: 36.89255853399931\n",
      "Epoch 38/50, Loss: 36.07524617728055\n",
      "Epoch 39/50, Loss: 35.185429662656446\n",
      "Epoch 40/50, Loss: 34.369048186326914\n",
      "Epoch 41/50, Loss: 33.574438454199\n",
      "Epoch 42/50, Loss: 32.953929037046095\n",
      "Epoch 43/50, Loss: 32.85330609010154\n",
      "Epoch 44/50, Loss: 32.91244357495055\n",
      "Epoch 45/50, Loss: 31.739107011897545\n",
      "Epoch 46/50, Loss: 31.4215355958763\n",
      "Epoch 47/50, Loss: 32.34117702002455\n",
      "Epoch 48/50, Loss: 31.489539663937702\n",
      "Epoch 49/50, Loss: 31.65783738534462\n",
      "Epoch 50/50, Loss: 29.609934436607432\n"
     ]
    }
   ],
   "source": [
    "# Use GPU if available\n",
    "device = torch.device('cuda' if torch.cuda.is_available() else 'cpu')\n",
    "model.to(device)\n",
    "\n",
    "# Define loss function and optimizer\n",
    "criterion = nn.MSELoss()\n",
    "optimizer = optim.Adam(model.parameters(), lr=0.001)\n",
    "\n",
    "# Training loop\n",
    "epochs = 50\n",
    "for epoch in range(epochs):\n",
    "    model.train()\n",
    "    running_loss = 0.0\n",
    "    for inputs, targets in train_loader:\n",
    "        inputs, targets = inputs.to(device), targets.to(device)\n",
    "\n",
    "        optimizer.zero_grad()\n",
    "        outputs = model(inputs)\n",
    "        loss = criterion(outputs, targets)\n",
    "        loss.backward()\n",
    "        optimizer.step()\n",
    "\n",
    "        running_loss += loss.item()\n",
    "\n",
    "    print(f\"Epoch {epoch+1}/{epochs}, Loss: {running_loss/len(train_loader)}\")\n",
    "\n",
    "# Save the trained model\n",
    "torch.save(model.state_dict(), 'model.pth')"
   ]
  },
  {
   "cell_type": "markdown",
   "id": "46f11570-9ba1-4893-a674-8abfae656712",
   "metadata": {},
   "source": [
    "# Evaluate Accuracy on Test Set"
   ]
  },
  {
   "cell_type": "code",
   "execution_count": 8,
   "id": "39dd4bab-02ac-4280-9274-ff004023562f",
   "metadata": {},
   "outputs": [
    {
     "name": "stdout",
     "output_type": "stream",
     "text": [
      "Test Loss: 14.890239196496683\n"
     ]
    }
   ],
   "source": [
    "model.eval()\n",
    "test_loss = 0.0\n",
    "with torch.no_grad():\n",
    "    for inputs, targets in test_loader:\n",
    "        inputs, targets = inputs.to(device), targets.to(device)\n",
    "        outputs = model(inputs)\n",
    "        loss = criterion(outputs, targets)\n",
    "        test_loss += loss.item()\n",
    "\n",
    "print(f\"Test Loss: {test_loss/len(test_loader)}\")"
   ]
  },
  {
   "cell_type": "code",
   "execution_count": null,
   "id": "5217f8b4-2da3-4921-929c-e0f2ee64873e",
   "metadata": {},
   "outputs": [],
   "source": []
  }
 ],
 "metadata": {
  "kernelspec": {
   "display_name": "Python 3 (ipykernel)",
   "language": "python",
   "name": "python3"
  },
  "language_info": {
   "codemirror_mode": {
    "name": "ipython",
    "version": 3
   },
   "file_extension": ".py",
   "mimetype": "text/x-python",
   "name": "python",
   "nbconvert_exporter": "python",
   "pygments_lexer": "ipython3",
   "version": "3.11.9"
  }
 },
 "nbformat": 4,
 "nbformat_minor": 5
}
