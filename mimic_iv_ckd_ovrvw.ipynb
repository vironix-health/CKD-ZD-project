{
 "cells": [
  {
   "cell_type": "code",
   "execution_count": 2,
   "metadata": {},
   "outputs": [],
   "source": [
    "import pandas as pd\n",
    "import numpy as np"
   ]
  },
  {
   "cell_type": "code",
   "execution_count": 3,
   "metadata": {},
   "outputs": [],
   "source": [
    "df_icd = pd.read_pickle('mimic_iv_extract/df_icd_codes_with_description.pkl')"
   ]
  },
  {
   "cell_type": "markdown",
   "metadata": {},
   "source": [
    "# Construct a Dataframe of Number of Patients and Hospitalisations with each CKD ICD-9 code"
   ]
  },
  {
   "cell_type": "code",
   "execution_count": 4,
   "metadata": {},
   "outputs": [
    {
     "data": {
      "text/html": [
       "<div>\n",
       "<style scoped>\n",
       "    .dataframe tbody tr th:only-of-type {\n",
       "        vertical-align: middle;\n",
       "    }\n",
       "\n",
       "    .dataframe tbody tr th {\n",
       "        vertical-align: top;\n",
       "    }\n",
       "\n",
       "    .dataframe thead th {\n",
       "        text-align: right;\n",
       "    }\n",
       "</style>\n",
       "<table border=\"1\" class=\"dataframe\">\n",
       "  <thead>\n",
       "    <tr style=\"text-align: right;\">\n",
       "      <th></th>\n",
       "      <th>icd_code</th>\n",
       "      <th>No. of patients</th>\n",
       "      <th>No. of hospital entries</th>\n",
       "      <th>long_title</th>\n",
       "    </tr>\n",
       "  </thead>\n",
       "  <tbody>\n",
       "    <tr>\n",
       "      <th>0</th>\n",
       "      <td>5851</td>\n",
       "      <td>89</td>\n",
       "      <td>98</td>\n",
       "      <td>Chronic kidney disease, Stage I</td>\n",
       "    </tr>\n",
       "    <tr>\n",
       "      <th>1</th>\n",
       "      <td>5852</td>\n",
       "      <td>827</td>\n",
       "      <td>1105</td>\n",
       "      <td>Chronic kidney disease, Stage II (mild)</td>\n",
       "    </tr>\n",
       "    <tr>\n",
       "      <th>2</th>\n",
       "      <td>5853</td>\n",
       "      <td>4312</td>\n",
       "      <td>6996</td>\n",
       "      <td>Chronic kidney disease, Stage III (moderate)</td>\n",
       "    </tr>\n",
       "    <tr>\n",
       "      <th>3</th>\n",
       "      <td>5854</td>\n",
       "      <td>1587</td>\n",
       "      <td>2836</td>\n",
       "      <td>Chronic kidney disease, Stage IV (severe)</td>\n",
       "    </tr>\n",
       "    <tr>\n",
       "      <th>4</th>\n",
       "      <td>5855</td>\n",
       "      <td>475</td>\n",
       "      <td>682</td>\n",
       "      <td>Chronic kidney disease, Stage V</td>\n",
       "    </tr>\n",
       "    <tr>\n",
       "      <th>5</th>\n",
       "      <td>5856</td>\n",
       "      <td>2441</td>\n",
       "      <td>8882</td>\n",
       "      <td>End stage renal disease</td>\n",
       "    </tr>\n",
       "    <tr>\n",
       "      <th>6</th>\n",
       "      <td>5859</td>\n",
       "      <td>9032</td>\n",
       "      <td>16983</td>\n",
       "      <td>Chronic kidney disease, unspecified</td>\n",
       "    </tr>\n",
       "  </tbody>\n",
       "</table>\n",
       "</div>"
      ],
      "text/plain": [
       "  icd_code  No. of patients  No. of hospital entries  \\\n",
       "0     5851               89                       98   \n",
       "1     5852              827                     1105   \n",
       "2     5853             4312                     6996   \n",
       "3     5854             1587                     2836   \n",
       "4     5855              475                      682   \n",
       "5     5856             2441                     8882   \n",
       "6     5859             9032                    16983   \n",
       "\n",
       "                                     long_title  \n",
       "0               Chronic kidney disease, Stage I  \n",
       "1       Chronic kidney disease, Stage II (mild)  \n",
       "2  Chronic kidney disease, Stage III (moderate)  \n",
       "3     Chronic kidney disease, Stage IV (severe)  \n",
       "4               Chronic kidney disease, Stage V  \n",
       "5                       End stage renal disease  \n",
       "6           Chronic kidney disease, unspecified  "
      ]
     },
     "execution_count": 4,
     "metadata": {},
     "output_type": "execute_result"
    }
   ],
   "source": [
    "# subset the CKD patients using ICD-9 codes (585)\n",
    "df_icd_585 = df_icd[df_icd['icd_code'].str.startswith('585')]\n",
    "\n",
    "# number of patients with each CKD ICD-9 code\n",
    "df_icd_585_patients = df_icd_585.groupby('icd_code').subject_id.nunique().to_frame().reset_index()\n",
    "\n",
    "# number of hospital entries with each CKD ICD-9 code\n",
    "df_icd_585_hosp = df_icd_585.groupby('icd_code').hadm_id.nunique().to_frame().reset_index()\n",
    "\n",
    "# merge the two tables\n",
    "df_icd_585_patients_hosp = pd.merge(df_icd_585_patients, df_icd_585_hosp, on='icd_code', how='outer')\n",
    "\n",
    "# rename columns\n",
    "df_icd_585_patients_hosp.columns = ['icd_code', 'No. of patients', 'No. of hospital entries']\n",
    "\n",
    "# add description\n",
    "df_icd_585_patients_hosp = pd.merge(df_icd_585_patients_hosp, df_icd_585[['icd_code', 'long_title']].drop_duplicates(), on='icd_code', how='left')\n",
    "\n",
    "df_icd_585_patients_hosp"
   ]
  },
  {
   "cell_type": "code",
   "execution_count": 5,
   "metadata": {},
   "outputs": [],
   "source": [
    "# save the table\n",
    "df_icd_585_patients_hosp.to_excel('mimic_iv_extract/ckd_stage_frequency.xlsx', index=False)"
   ]
  },
  {
   "cell_type": "code",
   "execution_count": null,
   "metadata": {},
   "outputs": [],
   "source": []
  }
 ],
 "metadata": {
  "kernelspec": {
   "display_name": "Python 3 (ipykernel)",
   "language": "python",
   "name": "python3"
  },
  "language_info": {
   "codemirror_mode": {
    "name": "ipython",
    "version": 3
   },
   "file_extension": ".py",
   "mimetype": "text/x-python",
   "name": "python",
   "nbconvert_exporter": "python",
   "pygments_lexer": "ipython3",
   "version": "3.11.8"
  }
 },
 "nbformat": 4,
 "nbformat_minor": 4
}
